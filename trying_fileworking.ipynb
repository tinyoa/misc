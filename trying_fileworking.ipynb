{
 "cells": [
  {
   "cell_type": "markdown",
   "metadata": {},
   "source": [
    "## Работа с файлами\n",
    "\n",
    "- регулярное бэкапирование файлов на внешний носитель, если подключен носитель из списка\n",
    "    - копировать файлы с телефона на компьютер\n",
    "        - данные с трекера\n",
    "        - фотографии\n",
    "        - скачанные картинки/музыка\n",
    "    - делать бекапы на флешку\n",
    "        - проекты\n",
    "        - Сохраненные картинки\n",
    "        \n",
    "- Копировать файлы на яндекс-диск, обновляя их.\n",
    "\n"
   ]
  },
  {
   "cell_type": "code",
   "execution_count": 1,
   "metadata": {
    "collapsed": true
   },
   "outputs": [],
   "source": [
    "source_dir = 'C:/Users/Aleksej/'\n",
    "destination_dir = 'C:/Users/Aleksej\\YandexDisk/Документы/handmade/python/notebook/'\n",
    "except_list = []"
   ]
  },
  {
   "cell_type": "code",
   "execution_count": 2,
   "metadata": {
    "collapsed": true
   },
   "outputs": [],
   "source": [
    "except_list = ['.anaconda',\n",
    " '.conda',\n",
    " '.condarc',\n",
    " '.ipynb_checkpoints',\n",
    " '.ipython',\n",
    " '.jupyter',\n",
    " '.matplotlib',\n",
    " 'Anaconda3',\n",
    " 'AppData',\n",
    " 'Application Data',\n",
    " 'Contacts',\n",
    " 'Cookies',\n",
    " 'Desktop',\n",
    " 'Documents',\n",
    " 'Downloads',\n",
    " 'Favorites',\n",
    " 'Links',\n",
    " 'Local Settings',\n",
    " 'Music',\n",
    " 'NetHood',\n",
    " 'NTUSER.DAT',\n",
    " 'ntuser.dat.LOG1',\n",
    " 'ntuser.dat.LOG2',\n",
    " 'NTUSER.DAT{016888bd-6c6f-11de-8d1d-001e0bcde3ec}.TM.blf',\n",
    " 'NTUSER.DAT{016888bd-6c6f-11de-8d1d-001e0bcde3ec}.TMContainer00000000000000000001.regtrans-ms',\n",
    " 'NTUSER.DAT{016888bd-6c6f-11de-8d1d-001e0bcde3ec}.TMContainer00000000000000000002.regtrans-ms',\n",
    " 'ntuser.ini',\n",
    " 'Pictures',\n",
    " 'PrintHood',\n",
    " 'pycbrf-master',\n",
    " 'Recent',\n",
    " 'Saved Games',\n",
    " 'Searches',\n",
    " 'SendTo',\n",
    " 'Videos',\n",
    " 'YandexDisk',\n",
    " 'Главное меню',\n",
    " 'Мои документы',\n",
    " 'Шаблоны']"
   ]
  },
  {
   "cell_type": "code",
   "execution_count": 2,
   "metadata": {
    "collapsed": true
   },
   "outputs": [],
   "source": [
    "import os "
   ]
  },
  {
   "cell_type": "code",
   "execution_count": 12,
   "metadata": {
    "collapsed": true
   },
   "outputs": [],
   "source": [
    "files = os.listdir(source_dir) "
   ]
  },
  {
   "cell_type": "code",
   "execution_count": 13,
   "metadata": {},
   "outputs": [
    {
     "data": {
      "text/plain": [
       "['.anaconda',\n",
       " '.conda',\n",
       " '.condarc',\n",
       " '.ipynb_checkpoints',\n",
       " '.ipython',\n",
       " '.jupyter',\n",
       " '.matplotlib',\n",
       " 'Anaconda3',\n",
       " 'AppData',\n",
       " 'Application Data',\n",
       " 'Contacts',\n",
       " 'Cookies',\n",
       " 'Desktop',\n",
       " 'Documents',\n",
       " 'Downloads',\n",
       " 'experiment.ipynb',\n",
       " 'Favorites',\n",
       " 'Links',\n",
       " 'Local Settings',\n",
       " 'Music',\n",
       " 'NetHood',\n",
       " 'NTUSER.DAT',\n",
       " 'ntuser.dat.LOG1',\n",
       " 'ntuser.dat.LOG2',\n",
       " 'NTUSER.DAT{016888bd-6c6f-11de-8d1d-001e0bcde3ec}.TM.blf',\n",
       " 'NTUSER.DAT{016888bd-6c6f-11de-8d1d-001e0bcde3ec}.TMContainer00000000000000000001.regtrans-ms',\n",
       " 'NTUSER.DAT{016888bd-6c6f-11de-8d1d-001e0bcde3ec}.TMContainer00000000000000000002.regtrans-ms',\n",
       " 'ntuser.ini',\n",
       " 'pandas_pg.ipynb',\n",
       " 'Pictures',\n",
       " 'PrintHood',\n",
       " 'pycbrf-master',\n",
       " 'Recent',\n",
       " 'Saved Games',\n",
       " 'Searches',\n",
       " 'SendTo',\n",
       " 'trying_fileworking.ipynb',\n",
       " 'trying_xml.ipynb',\n",
       " 'Videos',\n",
       " 'YandexDisk',\n",
       " 'Главное меню',\n",
       " 'Мои документы',\n",
       " 'Шаблоны']"
      ]
     },
     "execution_count": 13,
     "metadata": {},
     "output_type": "execute_result"
    }
   ],
   "source": [
    "files"
   ]
  },
  {
   "cell_type": "code",
   "execution_count": 14,
   "metadata": {
    "collapsed": true
   },
   "outputs": [],
   "source": [
    "file_to_copy = [element for i, element in enumerate(files) if element not in except_list]"
   ]
  },
  {
   "cell_type": "code",
   "execution_count": 15,
   "metadata": {},
   "outputs": [
    {
     "data": {
      "text/plain": [
       "['experiment.ipynb',\n",
       " 'pandas_pg.ipynb',\n",
       " 'trying_fileworking.ipynb',\n",
       " 'trying_xml.ipynb']"
      ]
     },
     "execution_count": 15,
     "metadata": {},
     "output_type": "execute_result"
    }
   ],
   "source": [
    "file_to_copy"
   ]
  },
  {
   "cell_type": "code",
   "execution_count": null,
   "metadata": {
    "collapsed": true
   },
   "outputs": [],
   "source": []
  },
  {
   "cell_type": "code",
   "execution_count": null,
   "metadata": {
    "collapsed": true
   },
   "outputs": [],
   "source": [
    "#Фильтруем список \n",
    "#images = filter(lambda x: x.endswith('.jpg'), files) "
   ]
  },
  {
   "cell_type": "code",
   "execution_count": null,
   "metadata": {
    "collapsed": true
   },
   "outputs": [],
   "source": []
  },
  {
   "cell_type": "code",
   "execution_count": 7,
   "metadata": {
    "collapsed": true
   },
   "outputs": [],
   "source": [
    "import shutil"
   ]
  },
  {
   "cell_type": "code",
   "execution_count": 19,
   "metadata": {
    "collapsed": true
   },
   "outputs": [],
   "source": [
    "for filetocopy in file_to_copy:\n",
    "    shutil.copyfile(source_dir + filetocopy, destination_dir + filetocopy)"
   ]
  },
  {
   "cell_type": "code",
   "execution_count": null,
   "metadata": {
    "collapsed": true
   },
   "outputs": [],
   "source": []
  },
  {
   "cell_type": "code",
   "execution_count": null,
   "metadata": {
    "collapsed": true
   },
   "outputs": [],
   "source": [
    "'trying_xml.ipynb'"
   ]
  },
  {
   "cell_type": "code",
   "execution_count": null,
   "metadata": {
    "collapsed": true
   },
   "outputs": [],
   "source": []
  },
  {
   "cell_type": "code",
   "execution_count": null,
   "metadata": {
    "collapsed": true
   },
   "outputs": [],
   "source": []
  }
 ],
 "metadata": {
  "kernelspec": {
   "display_name": "Python 3",
   "language": "python",
   "name": "python3"
  },
  "language_info": {
   "codemirror_mode": {
    "name": "ipython",
    "version": 3
   },
   "file_extension": ".py",
   "mimetype": "text/x-python",
   "name": "python",
   "nbconvert_exporter": "python",
   "pygments_lexer": "ipython3",
   "version": "3.7.3"
  }
 },
 "nbformat": 4,
 "nbformat_minor": 2
}
