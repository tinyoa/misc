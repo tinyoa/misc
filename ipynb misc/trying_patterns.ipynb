{
 "cells": [
  {
   "cell_type": "code",
   "execution_count": null,
   "metadata": {},
   "outputs": [],
   "source": [
    "# Паттерны проектирования в Python"
   ]
  },
  {
   "cell_type": "code",
   "execution_count": null,
   "metadata": {},
   "outputs": [],
   "source": [
    "https://proglib.io/p/py-patterns/"
   ]
  },
  {
   "cell_type": "code",
   "execution_count": null,
   "metadata": {},
   "outputs": [],
   "source": []
  },
  {
   "cell_type": "markdown",
   "metadata": {},
   "source": [
    "### Абстрактная фабрика\n",
    "\n",
    "Не путайте этот шаблон с другим представителем порождающих паттернов проектирования – фабричным методом (https://proglib.io/p/factory-method-python/), который мы разбирали раньше.\n",
    "\n",
    "Модуль стандартной Python библиотеки json иллюстрирует пример, когда требуется создание экземпляров объектов от имени вызывающей стороны. Рассмотрите строку JSON:\n"
   ]
  },
  {
   "cell_type": "code",
   "execution_count": 1,
   "metadata": {},
   "outputs": [],
   "source": [
    "text = '{\"total\": 9.61, \"items\": [\"Americano\", \"Omelet\"]}'"
   ]
  },
  {
   "cell_type": "markdown",
   "metadata": {},
   "source": [
    "По умолчанию модуль json создаёт unicode объекты для строк типа \"Americano\", float – для 9.61, list – для последовательности элементов и dict – для ключей и значений объекта.\n",
    "\n",
    "Но некоторым эти настройки по умолчанию не подходят. Например, бухгалтер против представления модулем json точной суммы «9 долларов 61 цент» в виде приближённого числа с плавающей запятой, и предпочёл бы вместо этого использовать экземпляр Decimal.\n",
    "\n",
    "Это конкретный пример проблемы:\n",
    "\n",
    "- В процессе подпрограмме потребуется создать ряд объектов от имени вызывающей стороны.\n",
    "- Значение по умолчанию для определения, какой класс использовать для каждого объекта, не охватывает всевозможные случаи.\n",
    "- Поэтому вместо хардкодинга этих классов и невозможности настройки подпрограмма позволяет вызывающей стороне указать, какие классы создавать.\n",
    "\n",
    "Во-первых, напишите фабрику, создающую все виды объектов, что использует загрузчик. Не только числа, которые анализируются, но даже контейнер, их содержащий."
   ]
  },
  {
   "cell_type": "code",
   "execution_count": 6,
   "metadata": {},
   "outputs": [],
   "source": [
    "from decimal import *"
   ]
  },
  {
   "cell_type": "code",
   "execution_count": 2,
   "metadata": {},
   "outputs": [],
   "source": [
    "class Factory(object):\n",
    "    def build_sequence(self):\n",
    "        return []\n",
    "\n",
    "    def build_number(self, string):\n",
    "        return Decimal(string)"
   ]
  },
  {
   "cell_type": "markdown",
   "metadata": {},
   "source": [
    "А вот загрузчик, что использует эту фабрику:"
   ]
  },
  {
   "cell_type": "code",
   "execution_count": 4,
   "metadata": {},
   "outputs": [],
   "source": [
    "class Loader(object):\n",
    "    def load(string, factory):\n",
    "        sequence = factory.build_sequence()\n",
    "        for substring in string.split(','):\n",
    "            item = factory.build_number(substring)\n",
    "            sequence.append(item)\n",
    "        return sequence\n",
    "\n"
   ]
  },
  {
   "cell_type": "code",
   "execution_count": 7,
   "metadata": {},
   "outputs": [
    {
     "name": "stdout",
     "output_type": "stream",
     "text": [
      "[Decimal('1.23'), Decimal('4.56')]\n"
     ]
    }
   ],
   "source": [
    "f = Factory()\n",
    "result = Loader.load('1.23, 4.56', f)\n",
    "print(result)"
   ]
  },
  {
   "cell_type": "markdown",
   "metadata": {},
   "source": [
    "Во-вторых, отделите спецификацию от реализации путём создания абстрактного класса. Этот последний шаг оправдывает слово «абстрактный» в названии паттерна проектирования «Абстрактная фабрика». Ваш абстрактный класс гарантирует, что аргументом factory в load() будет класс, соответствующий требуемому интерфейсу:"
   ]
  },
  {
   "cell_type": "code",
   "execution_count": 8,
   "metadata": {},
   "outputs": [],
   "source": [
    "from abc import ABCMeta, abstractmethod\n",
    "\n",
    "class AbstractFactory(metaclass=ABCMeta):\n",
    "\n",
    "    @abstractmethod\n",
    "    def build_sequence(self):\n",
    "        pass\n",
    "\n",
    "    @abstractmethod\n",
    "    def build_number(self, string):\n",
    "        pass"
   ]
  },
  {
   "cell_type": "markdown",
   "metadata": {},
   "source": [
    "Далее сделайте конкретную Factory с реализацией методов наследником созданного абстрактного класса. Методы фабрики вызываются с различными аргументами, что помогает создавать объекты разного типа и возвращать их без сообщения деталей вызывающей стороне."
   ]
  },
  {
   "cell_type": "markdown",
   "metadata": {},
   "source": [
    "### Прототип\n",
    "\n",
    "Паттерн проектирования «Прототип» предлагает механизм, с помощью которого вызывающая сторона предоставляет структуру с меню классов для создания экземпляра, когда пользователь или другой источник динамических запросов выбирает классы из меню выбора.\n",
    "\n",
    "Паттерн проектирования «Прототип» предлагает механизм, с помощью которого вызывающая сторона предоставляет структуру с меню классов для создания экземпляра, когда пользователь или другой источник динамических запросов выбирает классы из меню выбора."
   ]
  },
  {
   "cell_type": "code",
   "execution_count": 9,
   "metadata": {},
   "outputs": [],
   "source": [
    "class Sharp(object):\n",
    "    \"The symbol ♯.\"\n",
    "\n",
    "class Flat(object):\n",
    "    \"The symbol ♭.\""
   ]
  },
  {
   "cell_type": "markdown",
   "metadata": {},
   "source": [
    "Вместо этого, в дело вступает паттерн «Прототип», когда требуется создание экземпляров классов с заранее заданными списками аргументов:"
   ]
  },
  {
   "cell_type": "code",
   "execution_count": 10,
   "metadata": {},
   "outputs": [],
   "source": [
    "class Note(object):\n",
    "    \"Musical note 1 ÷ `fraction` measures long.\"\n",
    "    def __init__(self, fraction):\n",
    "        self.fraction = fraction"
   ]
  },
  {
   "cell_type": "markdown",
   "metadata": {},
   "source": [
    "### Питонические решения\n",
    "\n",
    "Питоническим подходом будет спроектировать классы исключительно с позиционными аргументами, без именованных. Затем легко хранить аргументы в виде кортежа, который предоставляется отдельно от самого класса. Это знакомый подход класса стандартной библиотеки Thread, который запрашивает вызываемый target= отдельно от передаваемых args=(...). Вот наши пункты меню:"
   ]
  },
  {
   "cell_type": "code",
   "execution_count": 11,
   "metadata": {},
   "outputs": [],
   "source": [
    "menu = {\n",
    "    'whole note': (Note, (1,)),\n",
    "    'half note': (Note, (2,)),\n",
    "    'quarter note': (Note, (4,)),\n",
    "    'sharp': (Sharp, ()),\n",
    "    'flat': (Flat, ()),\n",
    "}"
   ]
  },
  {
   "cell_type": "markdown",
   "metadata": {},
   "source": [
    "В качестве альтернативы, каждый класс и аргументы располагайте в одном кортеже:"
   ]
  },
  {
   "cell_type": "code",
   "execution_count": 12,
   "metadata": {},
   "outputs": [],
   "source": [
    "menu = {\n",
    "    'whole note': (Note, 1),\n",
    "    'half note': (Note, 2),\n",
    "    'quarter note': (Note, 4),\n",
    "    'sharp': (Sharp,),\n",
    "    'flat': (Flat,),\n",
    "}"
   ]
  },
  {
   "cell_type": "markdown",
   "metadata": {},
   "source": [
    "Затем структура будет вызывать каждый объект с использованием некоторой вариации tup[0](*tup[1:]).\n",
    "\n",
    "Однако, возможно, классу потребуются не только позиционные аргументы, но и именованные. В ответ на это предоставьте простые вызываемые объекты, используя лямбда-выражения для классов, которые требуют аргументов:\n"
   ]
  },
  {
   "cell_type": "code",
   "execution_count": 13,
   "metadata": {},
   "outputs": [],
   "source": [
    "menu = {\n",
    "    'whole note': lambda: Note(fraction=1),\n",
    "    'half note': lambda: Note(fraction=2),\n",
    "    'quarter note': lambda: Note(fraction=4),\n",
    "    'sharp': Sharp,\n",
    "    'flat': Flat,\n",
    "}"
   ]
  },
  {
   "cell_type": "markdown",
   "metadata": {},
   "source": [
    "Хотя лямбда-выражения не поддерживают быструю интроспекцию для проверки, они хорошо работают, если структура только вызывает их.\n",
    "\n",
    "### Сам паттерн\n",
    "\n",
    "Теперь представьте, что нет кортежей и возможности применять их в качестве списков аргументов. Сначала вы подумаете, что понадобятся фабричные классы, каждый из которых будет запоминать конкретный список аргументов, а затем предоставлять эти аргументы при запросе нового объекта:"
   ]
  },
  {
   "cell_type": "code",
   "execution_count": 14,
   "metadata": {},
   "outputs": [],
   "source": [
    "# Чего избегает паттерн «Прототип»:\n",
    "# создания фабрик для каждого класса.\n",
    "\n",
    "class NoteFactory(object):\n",
    "    def __init__(self, fraction):\n",
    "        self.fraction = fraction\n",
    "\n",
    "    def build(self):\n",
    "        return Note(self.fraction)\n",
    "\n",
    "class SharpFactory(object):\n",
    "    def build(self):\n",
    "        return Sharp()\n",
    "\n",
    "class FlatFactory(object):\n",
    "    def build(self):\n",
    "        return Flat()"
   ]
  },
  {
   "cell_type": "markdown",
   "metadata": {},
   "source": [
    "К счастью, ситуация не такая мрачная. Если перечитаете фабричные классы выше, то заметите, что каждый из них удивительно похож на целевые классы, которые хотим создать. Так же, как и Note, NoteFactory сам хранит атрибут fraction. Стек фабрик выглядит, как минимум, списками атрибутов, как стек создаваемых целевых классов.\n",
    "\n",
    "Эта симметрия предлагает способ решения нашей проблемы без зеркалирования каждого класса с помощью фабрики. Что, если бы мы использовали сами исходные объекты для хранения аргументов и дали им возможность предоставлять новые экземпляры?\n",
    "\n",
    "Результатом будет паттерн «Прототип», который напишем на Python с нуля. Все фабричные классы исчезают. Вместо этого у каждого объекта появляется метод clone(), на вызов которого он отвечает созданием нового экземпляра с полученными аргументами:"
   ]
  },
  {
   "cell_type": "code",
   "execution_count": 15,
   "metadata": {},
   "outputs": [],
   "source": [
    "# Шаблон «Прототип»: научите каждый экземпляр \n",
    "# объекта создавать копии самого себя.\n",
    "\n",
    "class Note(object):\n",
    "    \"Musical note 1 ÷ `fraction` measures long.\"\n",
    "    def __init__(self, fraction):\n",
    "        self.fraction = fraction\n",
    "\n",
    "    def clone(self):\n",
    "        return Note(self.fraction)\n",
    "\n",
    "class Sharp(object):\n",
    "    \"The symbol ♯.\"\n",
    "    def clone(self):\n",
    "        return Sharp()\n",
    "\n",
    "class Flat(object):\n",
    "    \"The symbol ♭.\"\n",
    "    def clone(self):\n",
    "        return Flat()"
   ]
  },
  {
   "cell_type": "markdown",
   "metadata": {},
   "source": [
    "Хотя пример и так иллюстрирует паттерн проектирования, при желании усложните его. Например, добавьте в каждом методе clone() вызов type(self) вместо жёсткого кодирования имени собственного класса для случая вызова метода в подклассе."
   ]
  },
  {
   "cell_type": "markdown",
   "metadata": {},
   "source": [
    "### Компоновщик\n",
    "\n",
    "Паттерн «Компоновщик» предполагает, что при разработке «контейнерных» объектов, которые собирают и упорядочивают «объекты содержимого», вы упрощаете операции, если предоставляете контейнерам и объектам содержимого общий набор методов. И тем самым поддерживаете максимум возможных методов при том, что вызывающему неважно, переданы отдельный объект контента или целый контейнер.\n",
    "\n",
    "#### Реализация: наследовать или нет?\n",
    "\n",
    "Преимущества симметрии, которую создаёт этот паттерн между контейнерами и их содержимым, увеличиваются, только если симметрия делает объекты взаимозаменяемыми. Но здесь некоторые статически типизированные языки встречают препятствие.\n",
    "\n",
    "В языках со строгой типизацией объекты двух классов взаимозаменяемые только при наследовании от одного родительского класса, который реализует общие методы, или при наследовании одного класса непосредственно от другого.\n",
    "\n",
    "В других статических языках ограничение мягче. Нет строгой необходимости в том, чтобы контейнер и его содержимое делились реализацией. Пока оба соответствуют «интерфейсу», который объявляет конкретные общие методы, объекты вызываются симметрично.\n",
    "\n",
    "Так как это программирование на Python, оба ограничения испаряются! Пишите код в предпочтительном для себя диапазоне безопасности и краткости. Хотите, пойдите классическим путём и добавьте общий суперкласс:"
   ]
  },
  {
   "cell_type": "code",
   "execution_count": 16,
   "metadata": {},
   "outputs": [],
   "source": [
    "class Widget(object):\n",
    "    def children(self):\n",
    "        return []\n",
    "\n",
    "class Frame(Widget):\n",
    "    def __init__(self, child_widgets):\n",
    "        self.child_widgets = child_widgets\n",
    "\n",
    "    def children(self):\n",
    "        return self.child_widgets\n",
    "\n",
    "class Label(Widget):\n",
    "    def __init__(self, text):\n",
    "        self.text = text"
   ]
  },
  {
   "cell_type": "markdown",
   "metadata": {},
   "source": [
    "Или задайте объектам один и тот же интерфейс. И положитесь на тесты, которые помогут поддерживать симметрию между контейнерами и содержимым. (Где для простейших скриптов ваш «тест» может быть фактом выполнения кода.)"
   ]
  },
  {
   "cell_type": "code",
   "execution_count": 17,
   "metadata": {},
   "outputs": [],
   "source": [
    "class Frame(object):\n",
    "    def __init__(self, child_widgets):\n",
    "        self.child_widgets = child_widgets\n",
    "\n",
    "    def children(self):\n",
    "        return self.child_widgets\n",
    "\n",
    "class Label(object):\n",
    "    def __init__(self, text):\n",
    "        self.text = text\n",
    "\n",
    "    def children(self):\n",
    "        return []"
   ]
  },
  {
   "cell_type": "markdown",
   "metadata": {},
   "source": [
    "Или выберите другой подход из спектра дизайна между этими двумя крайностями. Вот что поддерживает Python:\n",
    "\n",
    "- Следуйте классической архитектуре с общим суперклассом, показанной в первом примере выше.\n",
    "- Сделайте суперкласс абстрактным базовым классом с помощью инструментов модуля стандартной библиотеки abc.\n",
    "- Объявите для двух классов совместно используемый интерфейс, наподобие поддерживаемых старым пакетом zope.interface.\n",
    "- Применяйте аннотации для получения жёстких гарантий того, что и контейнер, и содержимое реализуют требуемое поведение. Для этого понадобится установка Python библиотеки проверки типов, к примеру, MyPy.\n",
    "- Вы в праве использовать утиную типизацию и не просить ни разрешения, ни прощения!\n",
    "\n",
    "Поскольку Python предлагает такой спектр подходов, не стоит определять паттерн «Компоновщик» классически, то есть как один конкретный механизм (суперкласс) для создания или гарантирования симметрии. Вместо этого определите его как создание симметрии любыми средствами в иерархии объектов."
   ]
  },
  {
   "cell_type": "markdown",
   "metadata": {},
   "source": [
    "### Итератор\n",
    "\n",
    "Как реализовать паттерн проектирования «Итератор» и подключиться к встроенным итерационным механизмам языка Python for, iter() и next()?"
   ]
  },
  {
   "cell_type": "markdown",
   "metadata": {},
   "source": [
    "- Добавьте в контейнер метод __iter__(), который возвращает объект итератора. Поддержка этого метода делает контейнер итерируемым.\n",
    "- Каждому итератору установите метод __next__() (в старом коде Python 2 next() записывали без двойного подчёркивания), который возвращает следующий элемент из контейнера при каждом вызове. Бросайте исключение StopIterator, когда больше нет элементов.\n",
    "- Помните, что некоторые пользователи передают в цикл for итераторы вместо основного контейнера? Чтобы обезопаситься в этом случае, каждому итератору также нужен метод __iter__(), который возвращает сам себя.\n",
    "\n",
    "Посмотрите, как эти требования работают вместе, на примере нашего собственного итератора!\n",
    "\n",
    "Обратите внимание, что не требуется, чтобы элементы, полученные в результате __next__(), сохранялись как постоянные значения внутри контейнера или даже присутствовали до вызова __next__(). Значит написать пример паттерна проектирования «Итератор» можно даже без реализации хранилища в контейнере:"
   ]
  },
  {
   "cell_type": "code",
   "execution_count": 18,
   "metadata": {},
   "outputs": [],
   "source": [
    "class OddNumbers(object):\n",
    "    \"An iterable object.\"\n",
    "\n",
    "    def __init__(self, maximum):\n",
    "        self.maximum = maximum\n",
    "\n",
    "    def __iter__(self):\n",
    "        return OddIterator(self)\n",
    "\n",
    "class OddIterator(object):\n",
    "    \"An iterator.\"\n",
    "\n",
    "    def __init__(self, container):\n",
    "        self.container = container\n",
    "        self.n = -1\n",
    "\n",
    "    def __next__(self):\n",
    "        self.n += 2\n",
    "        if self.n > self.container.maximum:\n",
    "            raise StopIteration\n",
    "        return self.n\n",
    "\n",
    "    def __iter__(self):\n",
    "        return self"
   ]
  },
  {
   "cell_type": "markdown",
   "metadata": {},
   "source": [
    "Благодаря этим трём методам – одному для объекта-контейнера и двум для его итератора – контейнер OddNumbers теперь полноправно участвует в богатой итерационной экосистеме языка программирования Python. Он будет работать без проблем с циклом for:"
   ]
  },
  {
   "cell_type": "code",
   "execution_count": 19,
   "metadata": {},
   "outputs": [
    {
     "name": "stdout",
     "output_type": "stream",
     "text": [
      "1\n",
      "3\n",
      "5\n",
      "7\n"
     ]
    }
   ],
   "source": [
    "numbers = OddNumbers(7)\n",
    "\n",
    "for n in numbers:\n",
    "    print(n)"
   ]
  },
  {
   "cell_type": "code",
   "execution_count": null,
   "metadata": {},
   "outputs": [],
   "source": [
    "И также работает со встроенными методами iter() и next()."
   ]
  },
  {
   "cell_type": "code",
   "execution_count": 21,
   "metadata": {},
   "outputs": [
    {
     "name": "stdout",
     "output_type": "stream",
     "text": [
      "1\n",
      "3\n"
     ]
    }
   ],
   "source": [
    "it = iter(OddNumbers(5))\n",
    "print(next(it))\n",
    "print(next(it))"
   ]
  },
  {
   "cell_type": "code",
   "execution_count": null,
   "metadata": {},
   "outputs": [],
   "source": [
    "Он дружит даже с генераторами списков и множеств!"
   ]
  },
  {
   "cell_type": "code",
   "execution_count": 22,
   "metadata": {},
   "outputs": [
    {
     "name": "stdout",
     "output_type": "stream",
     "text": [
      "[1, 3, 5, 7]\n",
      "{5, 7}\n"
     ]
    }
   ],
   "source": [
    "print(list(numbers))\n",
    "print(set(n for n in numbers if n > 4))"
   ]
  },
  {
   "cell_type": "markdown",
   "metadata": {},
   "source": [
    "Три простеньких метода – и вы разблокировали доступ к поддержке итераций на уровне синтаксиса Python."
   ]
  },
  {
   "cell_type": "markdown",
   "metadata": {},
   "source": [
    "### Резюме\n",
    "\n",
    "Теперь вы подружите Python с парой порождающих паттернов проектирования – абстрактной фабрикой и прототипом. Без труда реализуете структурный шаблон – прототип. По плечу вам имплементация поведенческого паттерна проектирования – итератора. Наверняка вас заинтересуют примеры других шаблонов проектирования на Python (https://proglib.io/p/python-patterns/)."
   ]
  },
  {
   "cell_type": "code",
   "execution_count": null,
   "metadata": {},
   "outputs": [],
   "source": []
  },
  {
   "cell_type": "code",
   "execution_count": null,
   "metadata": {},
   "outputs": [],
   "source": []
  },
  {
   "cell_type": "code",
   "execution_count": null,
   "metadata": {},
   "outputs": [],
   "source": []
  },
  {
   "cell_type": "code",
   "execution_count": null,
   "metadata": {},
   "outputs": [],
   "source": []
  },
  {
   "cell_type": "code",
   "execution_count": null,
   "metadata": {},
   "outputs": [],
   "source": []
  },
  {
   "cell_type": "code",
   "execution_count": null,
   "metadata": {},
   "outputs": [],
   "source": []
  }
 ],
 "metadata": {
  "kernelspec": {
   "display_name": "Python 3",
   "language": "python",
   "name": "python3"
  },
  "language_info": {
   "codemirror_mode": {
    "name": "ipython",
    "version": 3
   },
   "file_extension": ".py",
   "mimetype": "text/x-python",
   "name": "python",
   "nbconvert_exporter": "python",
   "pygments_lexer": "ipython3",
   "version": "3.7.3"
  }
 },
 "nbformat": 4,
 "nbformat_minor": 2
}
