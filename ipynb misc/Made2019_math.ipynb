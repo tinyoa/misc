{
 "cells": [
  {
   "cell_type": "code",
   "execution_count": null,
   "metadata": {
    "collapsed": true
   },
   "outputs": [],
   "source": []
  },
  {
   "cell_type": "code",
   "execution_count": 1,
   "metadata": {
    "collapsed": true
   },
   "outputs": [],
   "source": [
    "import pandas as pd\n",
    "import numpy as np"
   ]
  },
  {
   "cell_type": "code",
   "execution_count": null,
   "metadata": {
    "collapsed": true
   },
   "outputs": [],
   "source": []
  },
  {
   "cell_type": "code",
   "execution_count": 7,
   "metadata": {},
   "outputs": [
    {
     "name": "stdout",
     "output_type": "stream",
     "text": [
      "xy_list:  [[70.66666666666667, 3.142857142857143], [3.142857142857143, 70.66666666666667], [0.5, 26.076923076923077], [26.076923076923077, 0.5], [5.852631578947369, 0], [0, 5.852631578947369], [0.25, 5.886363636363637], [5.886363636363637, 0.25]]\n"
     ]
    }
   ],
   "source": [
    "x_y_list = [[212 / 3, 22 /7]\n",
    "            , [22/7, 212/3]\n",
    "           , [1/2, 339/13]\n",
    "           , [339/13, 1/2]\n",
    "           , [556/95, 0]\n",
    "           , [0, 556/95]\n",
    "           , [1/4, 259/44]\n",
    "           , [259/44, 1/4]]\n",
    "print('xy_list: ', x_y_list)"
   ]
  },
  {
   "cell_type": "code",
   "execution_count": 10,
   "metadata": {},
   "outputs": [
    {
     "name": "stdout",
     "output_type": "stream",
     "text": [
      "xy[ 2 ]= [0.5, 26.076923076923077]\n"
     ]
    }
   ],
   "source": []
  },
  {
   "cell_type": "code",
   "execution_count": 5,
   "metadata": {
    "collapsed": true
   },
   "outputs": [],
   "source": [
    "v1 = [0, 8, 5, np.NaN]\n",
    "v2 = [1, 5, 3, 1]\n",
    "v3 = [-6, 8, -6, 3]\n",
    "v4 = [0, np.NaN, 5, 8]"
   ]
  },
  {
   "cell_type": "code",
   "execution_count": null,
   "metadata": {},
   "outputs": [],
   "source": []
  },
  {
   "cell_type": "code",
   "execution_count": 36,
   "metadata": {},
   "outputs": [
    {
     "name": "stdout",
     "output_type": "stream",
     "text": [
      "xy[ 6 ]= [0.25, 5.886363636363637]\n",
      "x  0.25\n",
      "y  5.886363636363637\n",
      "\n",
      "[0, 8, 5, 0.25]\n",
      "[1, 5, 3, 1]\n",
      "[-6, 8, -6, 3]\n",
      "[0, 5.886363636363637, 5, 8]\n"
     ]
    }
   ],
   "source": [
    "iter = 6\n",
    "\n",
    "print('xy[', iter, ']=', x_y_list[iter])\n",
    "x = x_y_list[iter][0]\n",
    "y = x_y_list[iter][1]\n",
    "print ('x ', x)\n",
    "print ('y ', y)\n",
    "\n",
    "v1[3] = x\n",
    "v4[1] = y\n",
    "\n",
    "print('')\n",
    "print(v1)\n",
    "print(v2)\n",
    "print(v3)\n",
    "print(v4)\n"
   ]
  },
  {
   "cell_type": "code",
   "execution_count": null,
   "metadata": {},
   "outputs": [],
   "source": []
  },
  {
   "cell_type": "code",
   "execution_count": null,
   "metadata": {
    "collapsed": true
   },
   "outputs": [],
   "source": []
  },
  {
   "cell_type": "code",
   "execution_count": null,
   "metadata": {
    "collapsed": true
   },
   "outputs": [],
   "source": []
  },
  {
   "cell_type": "code",
   "execution_count": null,
   "metadata": {
    "collapsed": true
   },
   "outputs": [],
   "source": []
  },
  {
   "cell_type": "code",
   "execution_count": null,
   "metadata": {
    "collapsed": true
   },
   "outputs": [],
   "source": []
  }
 ],
 "metadata": {
  "kernelspec": {
   "display_name": "Python 3",
   "language": "python",
   "name": "python3"
  },
  "language_info": {
   "codemirror_mode": {
    "name": "ipython",
    "version": 3
   },
   "file_extension": ".py",
   "mimetype": "text/x-python",
   "name": "python",
   "nbconvert_exporter": "python",
   "pygments_lexer": "ipython3",
   "version": "3.6.3"
  }
 },
 "nbformat": 4,
 "nbformat_minor": 2
}
