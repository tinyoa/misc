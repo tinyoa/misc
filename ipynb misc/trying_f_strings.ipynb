{
 "cells": [
  {
   "cell_type": "markdown",
   "metadata": {},
   "source": [
    "# trying_f_strings\n",
    "\n",
    "https://www.datacamp.com/community/tutorials/f-string-formatting-in-python"
   ]
  },
  {
   "cell_type": "markdown",
   "metadata": {},
   "source": [
    "Learn about the f-string formatting technique in Python 3.6. In this tutorial, you'll see what advantages it offers and go through some example use cases.\n",
    "\n",
    "## 1. Introduction\n",
    "What is string formatting?\n",
    "\n",
    "String formatting is attractively designing your string using formatting techniques provided by the particular programming language. We have different string formatting techniques in Python. We are now going to explore the new f-string formatting technique.\n",
    "\n",
    "f-string evaluates at runtime of the program. It's swift compared to the previous methods.\n",
    "\n",
    "f-string having an easy syntax compared to previous string formatting techniques of Python. We will explore every bit of this formatting using different examples.\n",
    "\n",
    "\n",
    "### 1.1. Syntax\n",
    "Every f-string statement consists of two parts, one is character f or F, and the next one is a string which we want to format. The string will be enclosed in single, double, or triple quotes.\n",
    "\n",
    "Let's see the syntax\n"
   ]
  },
  {
   "cell_type": "code",
   "execution_count": 2,
   "metadata": {},
   "outputs": [
    {
     "data": {
      "text/plain": [
       "'string'"
      ]
     },
     "execution_count": 2,
     "metadata": {},
     "output_type": "execute_result"
    }
   ],
   "source": [
    "## we can also use F, '', ''''', \"\"\"\"\"\"'\n",
    "f\"string\""
   ]
  },
  {
   "cell_type": "markdown",
   "metadata": {},
   "source": [
    "In place of string, we have to place our sentence which is going to format.\n",
    "\n",
    "\n",
    "## 2. Displaying Variables\n",
    "We previously use the str.format() method mostly to format the strings. But, the time has changed we have a new method to make our efforts twice as fast.\n",
    "\n",
    "The variables in the curly { } braces are displayed in the output as a normal print statement. Let's see an example."
   ]
  },
  {
   "cell_type": "code",
   "execution_count": 1,
   "metadata": {},
   "outputs": [
    {
     "name": "stdout",
     "output_type": "stream",
     "text": [
      "Datacamp is an Educational company.\n"
     ]
    }
   ],
   "source": [
    "## declaring variables\n",
    "name = \"Datacamp\"\n",
    "type_of_company = \"Educational\"\n",
    "\n",
    "## enclose your variable within the {} to display it's value in the output\n",
    "print(f\"{name} is an {type_of_company} company.\")"
   ]
  },
  {
   "cell_type": "markdown",
   "metadata": {},
   "source": [
    "We have got the values of the variables in the output. See, it's easy. We can also replace the f with F as well."
   ]
  },
  {
   "cell_type": "code",
   "execution_count": 3,
   "metadata": {},
   "outputs": [
    {
     "name": "stdout",
     "output_type": "stream",
     "text": [
      "Datacamp is an Educational company.\n"
     ]
    }
   ],
   "source": [
    "## declaring variables\n",
    "name = \"Datacamp\"\n",
    "type_of_company = \"Educational\"\n",
    "\n",
    "## enclose your variable within the {} to display it's value in the output\n",
    "print(F\"{name} is an {type_of_company} company.\")"
   ]
  },
  {
   "cell_type": "markdown",
   "metadata": {},
   "source": [
    "f is either lower or upper it'll work the same.\n",
    "\n",
    "\n",
    "## 3. Expressions\n",
    "What if we can evaluate expressions like arithmetic, function calls, etc., in a string? It's cool right! Yeah! It's very, very exciting to use expressions inside a string. f-string allows us to evaluate expressions inside the string.\n",
    "\n",
    "Just put the expression inside { } to evaluate. f-string evaluates it at runtime of the program. It's an excellent feature which saves you time and code.\n",
    "\n",
    "Let's see examples of the different types of expressions."
   ]
  },
  {
   "cell_type": "code",
   "execution_count": 5,
   "metadata": {},
   "outputs": [
    {
     "name": "stdout",
     "output_type": "stream",
     "text": [
      "25\n"
     ]
    }
   ],
   "source": [
    "## arithmetic expression\n",
    "print(f\"{5 * 5}\")"
   ]
  },
  {
   "cell_type": "markdown",
   "metadata": {},
   "source": [
    "We can also call functions inside the { }. Let's define a function greet() and call it in the f-string"
   ]
  },
  {
   "cell_type": "code",
   "execution_count": 6,
   "metadata": {},
   "outputs": [],
   "source": [
    "def greet(name):\n",
    "    return \"Hello, \" + name"
   ]
  },
  {
   "cell_type": "code",
   "execution_count": 7,
   "metadata": {},
   "outputs": [
    {
     "name": "stdout",
     "output_type": "stream",
     "text": [
      "Hello, Datacamp\n"
     ]
    }
   ],
   "source": [
    "## calling the function using f-string\n",
    "name = \"Datacamp\"\n",
    "print(f\"{greet(name)}\")"
   ]
  },
  {
   "cell_type": "markdown",
   "metadata": {},
   "source": [
    "In the same way, we can also call the predefined methods. Let's see."
   ]
  },
  {
   "cell_type": "code",
   "execution_count": 8,
   "metadata": {},
   "outputs": [
    {
     "name": "stdout",
     "output_type": "stream",
     "text": [
      "Datacamp Is An Educational Company.\n"
     ]
    }
   ],
   "source": [
    "## calling the 'title' method which makes the first letter of every word upper\n",
    "string = \"datacamp is an educational company.\"\n",
    "print(f\"{string.title()}\")"
   ]
  },
  {
   "cell_type": "markdown",
   "metadata": {},
   "source": [
    "What else can we do with the f-string? Are we able to display the object? Yes, we can. It's the same as when we show the output of the variables."
   ]
  },
  {
   "cell_type": "code",
   "execution_count": 9,
   "metadata": {},
   "outputs": [],
   "source": [
    "class Sample:\n",
    "\n",
    "    def __init__(self, name, age):\n",
    "        self.name = name\n",
    "        self.age = age\n",
    "\n",
    "    ## this method will be called when we print the object\n",
    "    def __str__(self):\n",
    "        return f'{self.name} is {self.age} years old.'"
   ]
  },
  {
   "cell_type": "code",
   "execution_count": 10,
   "metadata": {},
   "outputs": [
    {
     "name": "stdout",
     "output_type": "stream",
     "text": [
      "John is 19 years old.\n"
     ]
    }
   ],
   "source": [
    "john = Sample(\"John\", 19)\n",
    "\n",
    "## it'll wake up the __str__() method\n",
    "print(f\"{john}\")"
   ]
  },
  {
   "cell_type": "markdown",
   "metadata": {},
   "source": [
    "## 4. Special Characters\n",
    "\n",
    "What if we want to display special characters like {}, \\', \\\"?, which are internally used by Python for special meaning. Can we use escape character inside the f-string? Let's see the answers to these questions.\n",
    "\n",
    "\n",
    "### 4.1. Quotations\n",
    "We can use any quotation marks {single or double or triple} in the f-string. We have to use the escape character to print quotation marks. The f-string expression doesn't allow us to use the backslash. We have to place it outside the { }.\n",
    "\n",
    "Let's see it by examples.\n"
   ]
  },
  {
   "cell_type": "code",
   "execution_count": 11,
   "metadata": {},
   "outputs": [
    {
     "name": "stdout",
     "output_type": "stream",
     "text": [
      "Hello, 'Datacamp'\n",
      "\n",
      "Hello, \"Datacamp\"\n"
     ]
    }
   ],
   "source": [
    "name = \"Datacamp\"\n",
    "\n",
    "## displaying single quotations\n",
    "print(f\"Hello, \\'{name}\\'\")\n",
    "\n",
    "print()\n",
    "\n",
    "## displaying double quotations\n",
    "print(f\"Hello, \\\"{name}\\\"\")"
   ]
  },
  {
   "cell_type": "markdown",
   "metadata": {},
   "source": [
    "Let's see other types of quotations in f-strings."
   ]
  },
  {
   "cell_type": "code",
   "execution_count": 12,
   "metadata": {},
   "outputs": [
    {
     "data": {
      "text/plain": [
       "'Hello, Datacamp'"
      ]
     },
     "execution_count": 12,
     "metadata": {},
     "output_type": "execute_result"
    }
   ],
   "source": [
    "f'{\"Hello, Datacamp\"}'"
   ]
  },
  {
   "cell_type": "code",
   "execution_count": 13,
   "metadata": {},
   "outputs": [
    {
     "data": {
      "text/plain": [
       "'Hello, Datacamp'"
      ]
     },
     "execution_count": 13,
     "metadata": {},
     "output_type": "execute_result"
    }
   ],
   "source": [
    "f\"{'Hello, Datacamp'}\""
   ]
  },
  {
   "cell_type": "code",
   "execution_count": 14,
   "metadata": {},
   "outputs": [
    {
     "data": {
      "text/plain": [
       "'Hello, Datacamp'"
      ]
     },
     "execution_count": 14,
     "metadata": {},
     "output_type": "execute_result"
    }
   ],
   "source": [
    "f\"\"\"Hello, Datacamp\"\"\""
   ]
  },
  {
   "cell_type": "code",
   "execution_count": 15,
   "metadata": {},
   "outputs": [
    {
     "data": {
      "text/plain": [
       "'Hello, Datacamp'"
      ]
     },
     "execution_count": 15,
     "metadata": {},
     "output_type": "execute_result"
    }
   ],
   "source": [
    "f'''Hello, Datacamp'''"
   ]
  },
  {
   "cell_type": "markdown",
   "metadata": {},
   "source": [
    "We can also include { } inside the three quotes as well.\n",
    "\n",
    "You can't use the backslashes inside the { } in f-string. You'll get an error if they are included inside { }."
   ]
  },
  {
   "cell_type": "code",
   "execution_count": 16,
   "metadata": {},
   "outputs": [
    {
     "ename": "SyntaxError",
     "evalue": "f-string expression part cannot include a backslash (<ipython-input-16-b9a2502d6274>, line 1)",
     "output_type": "error",
     "traceback": [
      "\u001b[1;36m  File \u001b[1;32m\"<ipython-input-16-b9a2502d6274>\"\u001b[1;36m, line \u001b[1;32m1\u001b[0m\n\u001b[1;33m    print(f\"{\\\"Datacamp\\\"}\")\u001b[0m\n\u001b[1;37m         ^\u001b[0m\n\u001b[1;31mSyntaxError\u001b[0m\u001b[1;31m:\u001b[0m f-string expression part cannot include a backslash\n"
     ]
    }
   ],
   "source": [
    "print(f\"{\\\"Datacamp\\\"}\")"
   ]
  },
  {
   "cell_type": "markdown",
   "metadata": {},
   "source": [
    "### 4.2. Braces\n",
    "We have to use a double set of braces to print the braces using f-string. Let's see an example."
   ]
  },
  {
   "cell_type": "code",
   "execution_count": 17,
   "metadata": {},
   "outputs": [
    {
     "name": "stdout",
     "output_type": "stream",
     "text": [
      "{Datacamp}\n"
     ]
    }
   ],
   "source": [
    "print(f\"{{Datacamp}}\")"
   ]
  },
  {
   "cell_type": "markdown",
   "metadata": {},
   "source": [
    "If you want to display two sets of braces using f-string, then you have to use four sets of braces."
   ]
  },
  {
   "cell_type": "code",
   "execution_count": 18,
   "metadata": {},
   "outputs": [
    {
     "name": "stdout",
     "output_type": "stream",
     "text": [
      "{{Datacamp}}\n"
     ]
    }
   ],
   "source": [
    "print(f\"{{{{Datacamp}}}}\")"
   ]
  },
  {
   "cell_type": "markdown",
   "metadata": {},
   "source": [
    "## 5. Dictionaries\n",
    "We have to be a bit careful while dealing with dictionary keys inside the f-string. You have to use a different quotation to the dictionary key and f-string. You are not permitted to use the same quotations for a dictionary key as if it was an f-string."
   ]
  },
  {
   "cell_type": "code",
   "execution_count": 19,
   "metadata": {},
   "outputs": [
    {
     "name": "stdout",
     "output_type": "stream",
     "text": [
      "John is 19 years old.\n"
     ]
    }
   ],
   "source": [
    "person = {\"name\": \"John\", \"age\": 19}\n",
    "print(f\"{person['name']} is {person['age']} years old.\")"
   ]
  },
  {
   "cell_type": "markdown",
   "metadata": {},
   "source": [
    "You are not allowed to use it as follows in the case of dictionaries."
   ]
  },
  {
   "cell_type": "code",
   "execution_count": 21,
   "metadata": {},
   "outputs": [
    {
     "ename": "SyntaxError",
     "evalue": "invalid syntax (<ipython-input-21-6849ff0810ae>, line 2)",
     "output_type": "error",
     "traceback": [
      "\u001b[1;36m  File \u001b[1;32m\"<ipython-input-21-6849ff0810ae>\"\u001b[1;36m, line \u001b[1;32m2\u001b[0m\n\u001b[1;33m    print(f'{person['name']} is {person['age']} years old.')\u001b[0m\n\u001b[1;37m                        ^\u001b[0m\n\u001b[1;31mSyntaxError\u001b[0m\u001b[1;31m:\u001b[0m invalid syntax\n"
     ]
    }
   ],
   "source": [
    "person = {\"name\": \"John\", \"age\": 19}\n",
    "print(f'{person['name']} is {person['age']} years old.')"
   ]
  },
  {
   "cell_type": "markdown",
   "metadata": {},
   "source": [
    "Conclusion\n",
    "I hope you learn something new in Python by reading this tutorial. To learn more about strings and previous formatting techniques head over this tutorial (https://www.datacamp.com/community/tutorials/python-string-tutorial) on Datacamp. Also, check out DataCamp's Regular Expressions in Python (https://www.datacamp.com/courses/regular-expressions-in-python) course.\n",
    "\n",
    "Happy Coding :)"
   ]
  }
 ],
 "metadata": {
  "kernelspec": {
   "display_name": "Python 3",
   "language": "python",
   "name": "python3"
  },
  "language_info": {
   "codemirror_mode": {
    "name": "ipython",
    "version": 3
   },
   "file_extension": ".py",
   "mimetype": "text/x-python",
   "name": "python",
   "nbconvert_exporter": "python",
   "pygments_lexer": "ipython3",
   "version": "3.7.3"
  }
 },
 "nbformat": 4,
 "nbformat_minor": 2
}
