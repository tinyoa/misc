{
 "cells": [
  {
   "cell_type": "code",
   "execution_count": null,
   "metadata": {
    "collapsed": true
   },
   "outputs": [],
   "source": []
  },
  {
   "cell_type": "markdown",
   "metadata": {},
   "source": [
    "Перед вами статистика событий реального продукта. \n",
    "В эти данные искусственно внесены несколько проблем, причем большая часть из них продуктового характера.\n",
    "\n",
    "Вам нужно эти проблемы найти.\n",
    "\n",
    "Важно отметить, что проблемы серьезные и системные, т.е. существенно влияют на часть пользователей.\n",
    "\n",
    "Примеры несерьезных проблем:\n",
    "\n",
    "- В некоторых записях отсутствует profile_id, country. С учетом того, что это идентификатор, то он должен быть.\n",
    "да, иногда случается что страну пользователя определить не удается, не имеет значения\n",
    "\n",
    "- По данным есть дата из profile_created от 1970, далее данные за 2015.\n",
    "по части пользователей потерялась дата создания, у них автоматически выставилась дата на unixtime = 0, не имеет значения\n",
    "\n",
    "- Есть 9 строк с отсутствием данных\n",
    "из 15 миллионов строк 9 пустых, - не имеет значения\n",
    "\n",
    "- Есть 2 страны: Amerivan Samoa и Anguilla, по которым за весь период сформировано только по одному profile_id.\n",
    "из двух карликовых стран пришло только по одному пользователю, - это естественно\n",
    "\n",
    "самые важные события\n",
    "credit_toppting_up - пользователь купил кредиты, внутреннюю валюту приложения (т.е. заплатил нам реальные деньги)\n",
    "credit_charge_off - пользователь потратил кредиты, внутреннюю валюту приложения"
   ]
  },
  {
   "cell_type": "code",
   "execution_count": null,
   "metadata": {
    "collapsed": true
   },
   "outputs": [],
   "source": []
  },
  {
   "cell_type": "code",
   "execution_count": 1,
   "metadata": {
    "collapsed": true
   },
   "outputs": [],
   "source": [
    "import pandas as pd"
   ]
  },
  {
   "cell_type": "code",
   "execution_count": null,
   "metadata": {
    "collapsed": true
   },
   "outputs": [],
   "source": []
  },
  {
   "cell_type": "code",
   "execution_count": 2,
   "metadata": {
    "collapsed": true
   },
   "outputs": [],
   "source": [
    "df_tf = pd.read_csv('topface.csv')"
   ]
  },
  {
   "cell_type": "code",
   "execution_count": 14,
   "metadata": {},
   "outputs": [
    {
     "data": {
      "text/html": [
       "<div>\n",
       "<style>\n",
       "    .dataframe thead tr:only-child th {\n",
       "        text-align: right;\n",
       "    }\n",
       "\n",
       "    .dataframe thead th {\n",
       "        text-align: left;\n",
       "    }\n",
       "\n",
       "    .dataframe tbody tr th {\n",
       "        vertical-align: top;\n",
       "    }\n",
       "</style>\n",
       "<table border=\"1\" class=\"dataframe\">\n",
       "  <thead>\n",
       "    <tr style=\"text-align: right;\">\n",
       "      <th></th>\n",
       "      <th>@key</th>\n",
       "      <th>@timestamp</th>\n",
       "      <th>@value</th>\n",
       "      <th>agency</th>\n",
       "      <th>app_version</th>\n",
       "      <th>build</th>\n",
       "      <th>country</th>\n",
       "      <th>device</th>\n",
       "      <th>gender</th>\n",
       "      <th>payment_atype</th>\n",
       "      <th>profile_created</th>\n",
       "      <th>profile_id</th>\n",
       "      <th>profile_is_payer</th>\n",
       "      <th>profile_type</th>\n",
       "      <th>tester</th>\n",
       "    </tr>\n",
       "  </thead>\n",
       "  <tbody>\n",
       "    <tr>\n",
       "      <th>0</th>\n",
       "      <td>user_session_end</td>\n",
       "      <td>2019-07-04 00:00:00.430</td>\n",
       "      <td>1</td>\n",
       "      <td>NaN</td>\n",
       "      <td>1.6.4</td>\n",
       "      <td>release</td>\n",
       "      <td>Italy</td>\n",
       "      <td>android</td>\n",
       "      <td>male</td>\n",
       "      <td>NaN</td>\n",
       "      <td>2018-05-28T07:21:48+0300</td>\n",
       "      <td>2033816.0</td>\n",
       "      <td>0.0</td>\n",
       "      <td>male</td>\n",
       "      <td>0.0</td>\n",
       "    </tr>\n",
       "    <tr>\n",
       "      <th>1</th>\n",
       "      <td>user_session_start</td>\n",
       "      <td>2019-07-04 00:00:01.332</td>\n",
       "      <td>1</td>\n",
       "      <td>NaN</td>\n",
       "      <td>1.6.6</td>\n",
       "      <td>release</td>\n",
       "      <td>Israel</td>\n",
       "      <td>android</td>\n",
       "      <td>male</td>\n",
       "      <td>NaN</td>\n",
       "      <td>2019-06-09T18:01:39+0300</td>\n",
       "      <td>3813174.0</td>\n",
       "      <td>0.0</td>\n",
       "      <td>male</td>\n",
       "      <td>0.0</td>\n",
       "    </tr>\n",
       "  </tbody>\n",
       "</table>\n",
       "</div>"
      ],
      "text/plain": [
       "                 @key               @timestamp  @value  agency app_version  \\\n",
       "0    user_session_end  2019-07-04 00:00:00.430       1     NaN       1.6.4   \n",
       "1  user_session_start  2019-07-04 00:00:01.332       1     NaN       1.6.6   \n",
       "\n",
       "     build country   device gender  payment_atype           profile_created  \\\n",
       "0  release   Italy  android   male            NaN  2018-05-28T07:21:48+0300   \n",
       "1  release  Israel  android   male            NaN  2019-06-09T18:01:39+0300   \n",
       "\n",
       "   profile_id  profile_is_payer profile_type  tester  \n",
       "0   2033816.0               0.0         male     0.0  \n",
       "1   3813174.0               0.0         male     0.0  "
      ]
     },
     "execution_count": 14,
     "metadata": {},
     "output_type": "execute_result"
    }
   ],
   "source": [
    "df_tf.head(2)"
   ]
  },
  {
   "cell_type": "code",
   "execution_count": 16,
   "metadata": {},
   "outputs": [],
   "source": [
    "# Убираю @, чтобы можно было обращаться к полям\n",
    "df_tf.columns = df_tf.columns.str.replace('@','')      # _"
   ]
  },
  {
   "cell_type": "code",
   "execution_count": 17,
   "metadata": {},
   "outputs": [
    {
     "data": {
      "text/plain": [
       "(1531354, 15)"
      ]
     },
     "execution_count": 17,
     "metadata": {},
     "output_type": "execute_result"
    }
   ],
   "source": [
    "df_tf.shape"
   ]
  },
  {
   "cell_type": "code",
   "execution_count": 18,
   "metadata": {},
   "outputs": [
    {
     "data": {
      "text/html": [
       "<div>\n",
       "<style>\n",
       "    .dataframe thead tr:only-child th {\n",
       "        text-align: right;\n",
       "    }\n",
       "\n",
       "    .dataframe thead th {\n",
       "        text-align: left;\n",
       "    }\n",
       "\n",
       "    .dataframe tbody tr th {\n",
       "        vertical-align: top;\n",
       "    }\n",
       "</style>\n",
       "<table border=\"1\" class=\"dataframe\">\n",
       "  <thead>\n",
       "    <tr style=\"text-align: right;\">\n",
       "      <th></th>\n",
       "      <th>count</th>\n",
       "      <th>mean</th>\n",
       "      <th>std</th>\n",
       "      <th>min</th>\n",
       "      <th>25%</th>\n",
       "      <th>50%</th>\n",
       "      <th>75%</th>\n",
       "      <th>max</th>\n",
       "    </tr>\n",
       "  </thead>\n",
       "  <tbody>\n",
       "    <tr>\n",
       "      <th>value</th>\n",
       "      <td>1531354.0</td>\n",
       "      <td>1.125797e+00</td>\n",
       "      <td>1.642174e+00</td>\n",
       "      <td>1.0</td>\n",
       "      <td>1.0</td>\n",
       "      <td>1.0</td>\n",
       "      <td>1.0</td>\n",
       "      <td>80.0</td>\n",
       "    </tr>\n",
       "    <tr>\n",
       "      <th>agency</th>\n",
       "      <td>172856.0</td>\n",
       "      <td>2.285372e+01</td>\n",
       "      <td>1.381549e+01</td>\n",
       "      <td>0.0</td>\n",
       "      <td>9.0</td>\n",
       "      <td>29.0</td>\n",
       "      <td>33.0</td>\n",
       "      <td>55.0</td>\n",
       "    </tr>\n",
       "    <tr>\n",
       "      <th>payment_atype</th>\n",
       "      <td>56320.0</td>\n",
       "      <td>1.914045e+00</td>\n",
       "      <td>2.803005e-01</td>\n",
       "      <td>1.0</td>\n",
       "      <td>2.0</td>\n",
       "      <td>2.0</td>\n",
       "      <td>2.0</td>\n",
       "      <td>2.0</td>\n",
       "    </tr>\n",
       "    <tr>\n",
       "      <th>profile_id</th>\n",
       "      <td>1531345.0</td>\n",
       "      <td>3.186868e+06</td>\n",
       "      <td>1.168576e+06</td>\n",
       "      <td>595.0</td>\n",
       "      <td>2892218.0</td>\n",
       "      <td>3803163.0</td>\n",
       "      <td>3991786.0</td>\n",
       "      <td>4040530.0</td>\n",
       "    </tr>\n",
       "    <tr>\n",
       "      <th>profile_is_payer</th>\n",
       "      <td>1531345.0</td>\n",
       "      <td>2.182585e-01</td>\n",
       "      <td>4.130639e-01</td>\n",
       "      <td>0.0</td>\n",
       "      <td>0.0</td>\n",
       "      <td>0.0</td>\n",
       "      <td>0.0</td>\n",
       "      <td>1.0</td>\n",
       "    </tr>\n",
       "    <tr>\n",
       "      <th>tester</th>\n",
       "      <td>1531345.0</td>\n",
       "      <td>1.861109e-04</td>\n",
       "      <td>1.364098e-02</td>\n",
       "      <td>0.0</td>\n",
       "      <td>0.0</td>\n",
       "      <td>0.0</td>\n",
       "      <td>0.0</td>\n",
       "      <td>1.0</td>\n",
       "    </tr>\n",
       "  </tbody>\n",
       "</table>\n",
       "</div>"
      ],
      "text/plain": [
       "                      count          mean           std    min        25%  \\\n",
       "value             1531354.0  1.125797e+00  1.642174e+00    1.0        1.0   \n",
       "agency             172856.0  2.285372e+01  1.381549e+01    0.0        9.0   \n",
       "payment_atype       56320.0  1.914045e+00  2.803005e-01    1.0        2.0   \n",
       "profile_id        1531345.0  3.186868e+06  1.168576e+06  595.0  2892218.0   \n",
       "profile_is_payer  1531345.0  2.182585e-01  4.130639e-01    0.0        0.0   \n",
       "tester            1531345.0  1.861109e-04  1.364098e-02    0.0        0.0   \n",
       "\n",
       "                        50%        75%        max  \n",
       "value                   1.0        1.0       80.0  \n",
       "agency                 29.0       33.0       55.0  \n",
       "payment_atype           2.0        2.0        2.0  \n",
       "profile_id        3803163.0  3991786.0  4040530.0  \n",
       "profile_is_payer        0.0        0.0        1.0  \n",
       "tester                  0.0        0.0        1.0  "
      ]
     },
     "execution_count": 18,
     "metadata": {},
     "output_type": "execute_result"
    }
   ],
   "source": [
    "df_tf.describe().T"
   ]
  },
  {
   "cell_type": "code",
   "execution_count": 19,
   "metadata": {},
   "outputs": [
    {
     "data": {
      "text/plain": [
       "key                  object\n",
       "timestamp            object\n",
       "value                 int64\n",
       "agency              float64\n",
       "app_version          object\n",
       "build                object\n",
       "country              object\n",
       "device               object\n",
       "gender               object\n",
       "payment_atype       float64\n",
       "profile_created      object\n",
       "profile_id          float64\n",
       "profile_is_payer    float64\n",
       "profile_type         object\n",
       "tester              float64\n",
       "dtype: object"
      ]
     },
     "execution_count": 19,
     "metadata": {},
     "output_type": "execute_result"
    }
   ],
   "source": [
    "df_tf.dtypes"
   ]
  },
  {
   "cell_type": "code",
   "execution_count": 21,
   "metadata": {},
   "outputs": [
    {
     "data": {
      "text/html": [
       "<div>\n",
       "<style>\n",
       "    .dataframe thead tr:only-child th {\n",
       "        text-align: right;\n",
       "    }\n",
       "\n",
       "    .dataframe thead th {\n",
       "        text-align: left;\n",
       "    }\n",
       "\n",
       "    .dataframe tbody tr th {\n",
       "        vertical-align: top;\n",
       "    }\n",
       "</style>\n",
       "<table border=\"1\" class=\"dataframe\">\n",
       "  <thead>\n",
       "    <tr style=\"text-align: right;\">\n",
       "      <th></th>\n",
       "      <th>key</th>\n",
       "      <th>value</th>\n",
       "      <th>agency</th>\n",
       "      <th>payment_atype</th>\n",
       "    </tr>\n",
       "  </thead>\n",
       "  <tbody>\n",
       "    <tr>\n",
       "      <th>0</th>\n",
       "      <td>credit_charge_off</td>\n",
       "      <td>137619</td>\n",
       "      <td>357</td>\n",
       "      <td>0</td>\n",
       "    </tr>\n",
       "    <tr>\n",
       "      <th>1</th>\n",
       "      <td>credit_topping_up</td>\n",
       "      <td>56320</td>\n",
       "      <td>23</td>\n",
       "      <td>56320</td>\n",
       "    </tr>\n",
       "    <tr>\n",
       "      <th>2</th>\n",
       "      <td>user_session_end</td>\n",
       "      <td>667223</td>\n",
       "      <td>86255</td>\n",
       "      <td>0</td>\n",
       "    </tr>\n",
       "    <tr>\n",
       "      <th>3</th>\n",
       "      <td>user_session_start</td>\n",
       "      <td>670192</td>\n",
       "      <td>86221</td>\n",
       "      <td>0</td>\n",
       "    </tr>\n",
       "  </tbody>\n",
       "</table>\n",
       "</div>"
      ],
      "text/plain": [
       "                  key   value  agency  payment_atype\n",
       "0   credit_charge_off  137619     357              0\n",
       "1   credit_topping_up   56320      23          56320\n",
       "2    user_session_end  667223   86255              0\n",
       "3  user_session_start  670192   86221              0"
      ]
     },
     "execution_count": 21,
     "metadata": {},
     "output_type": "execute_result"
    }
   ],
   "source": [
    "df_tf.groupby(['key'], as_index = False).agg({'value': 'count', 'agency': 'count', 'payment_atype': 'count'})"
   ]
  },
  {
   "cell_type": "code",
   "execution_count": null,
   "metadata": {
    "collapsed": true
   },
   "outputs": [],
   "source": []
  },
  {
   "cell_type": "code",
   "execution_count": null,
   "metadata": {
    "collapsed": true
   },
   "outputs": [],
   "source": []
  },
  {
   "cell_type": "code",
   "execution_count": null,
   "metadata": {
    "collapsed": true
   },
   "outputs": [],
   "source": []
  },
  {
   "cell_type": "code",
   "execution_count": null,
   "metadata": {
    "collapsed": true
   },
   "outputs": [],
   "source": []
  }
 ],
 "metadata": {
  "kernelspec": {
   "display_name": "Python 3",
   "language": "python",
   "name": "python3"
  },
  "language_info": {
   "codemirror_mode": {
    "name": "ipython",
    "version": 3
   },
   "file_extension": ".py",
   "mimetype": "text/x-python",
   "name": "python",
   "nbconvert_exporter": "python",
   "pygments_lexer": "ipython3",
   "version": "3.7.6"
  }
 },
 "nbformat": 4,
 "nbformat_minor": 2
}
