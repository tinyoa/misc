{
 "cells": [
  {
   "cell_type": "code",
   "execution_count": 27,
   "metadata": {},
   "outputs": [],
   "source": [
    "############################################ ©2020 by Evgeny Shibaev ###################################################\n",
    "#1.Запускаем сервер (эту ячейку) CTRL+ENTER\n",
    "#2.В КВИКе запускаем луа-скрипт QuikLuaPython.lua\n",
    "import socket\n",
    "import threading\n",
    "\n",
    "ticks=[]\n",
    "def parser (parse):\n",
    "    if parse[0] == '1' and parse[1] == 'SiM0': #записываем цену текущего тика SiM0 в список ticks\n",
    "        ticks.append(float(parse[4]))\n",
    "\n",
    "def service():\n",
    "    sock=socket.socket(socket.AF_INET,socket.SOCK_DGRAM)\n",
    "    sock.bind(('127.0.0.1',3587)) #Хост-этот компьютер, порт - 3587\n",
    "    while True:\n",
    "        res = sock.recv(2048).decode('utf-8')\n",
    "        if res == '<qstp>\\n':  #строка приходит от клиента при остановке луа-скрипта в КВИКе\n",
    "            break\n",
    "        else:\n",
    "            parser(res.split(' ')) #Здесь вызываете свой парсер. Для примера функция: parser (parse)\n",
    "    sock.close()\n",
    "\n",
    "#Запускаем сервер в своем потоке\n",
    "t = threading.Thread(name='service', target = service)\n",
    "t.start()"
   ]
  },
  {
   "cell_type": "code",
   "execution_count": 30,
   "metadata": {},
   "outputs": [],
   "source": [
    "#3.Запускаем анимацию (эту ячейку) для проверки работы сервера\n",
    "import matplotlib.pyplot as plt\n",
    "import pandas as pd\n",
    "import matplotlib.animation\n",
    "%matplotlib notebook\n",
    "\n",
    "fig = plt.figure()\n",
    "ax = fig.add_subplot()\n",
    "def update(i):\n",
    "    ax.clear()\n",
    "    plt.plot(ticks[-500:]) #Отображаем последние 1000 тиков\n",
    "\n",
    "ani = matplotlib.animation.FuncAnimation(fig, update, frames=1000, repeat=False)\n",
    "plt.show()"
   ]
  }
 ],
 "metadata": {
  "kernelspec": {
   "display_name": "Python 3",
   "language": "python",
   "name": "python3"
  },
  "language_info": {
   "codemirror_mode": {
    "name": "ipython",
    "version": 3
   },
   "file_extension": ".py",
   "mimetype": "text/x-python",
   "name": "python",
   "nbconvert_exporter": "python",
   "pygments_lexer": "ipython3",
   "version": "3.7.6"
  }
 },
 "nbformat": 4,
 "nbformat_minor": 2
}
