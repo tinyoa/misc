{
 "cells": [
  {
   "cell_type": "code",
   "execution_count": null,
   "metadata": {},
   "outputs": [],
   "source": []
  },
  {
   "cell_type": "code",
   "execution_count": null,
   "metadata": {},
   "outputs": [],
   "source": []
  },
  {
   "cell_type": "markdown",
   "metadata": {},
   "source": [
    "Попробую разобрать json выгрузку из приложения и конвертировать ее в csv"
   ]
  },
  {
   "cell_type": "code",
   "execution_count": null,
   "metadata": {},
   "outputs": [],
   "source": []
  },
  {
   "cell_type": "code",
   "execution_count": 1,
   "metadata": {},
   "outputs": [],
   "source": [
    "import json"
   ]
  },
  {
   "cell_type": "code",
   "execution_count": 2,
   "metadata": {},
   "outputs": [],
   "source": [
    "file = \"export.json\""
   ]
  },
  {
   "cell_type": "code",
   "execution_count": 3,
   "metadata": {},
   "outputs": [],
   "source": [
    "with open(file, encoding = 'utf8') as read_file:\n",
    "        lines = read_file.read()"
   ]
  },
  {
   "cell_type": "code",
   "execution_count": null,
   "metadata": {},
   "outputs": [],
   "source": [
    "lines"
   ]
  },
  {
   "cell_type": "code",
   "execution_count": 4,
   "metadata": {},
   "outputs": [],
   "source": [
    "decoded_hand = json.loads(lines)"
   ]
  },
  {
   "cell_type": "code",
   "execution_count": null,
   "metadata": {},
   "outputs": [],
   "source": []
  },
  {
   "cell_type": "code",
   "execution_count": 5,
   "metadata": {},
   "outputs": [],
   "source": [
    "header = 'cashTotalSum;dateTime;ecashTotalSum;fiscalDocumentNumber;fiscalDriveNumber;fiscalSign;items_name;items_nds18;items_price;items_quantity;items_sum;kktRegId;nds18;operationType;operator;receiptCode;requestNumber;shiftNumber;taxationType;totalSum;userInn;createdAt;timeLastAccess\\n'"
   ]
  },
  {
   "cell_type": "code",
   "execution_count": 6,
   "metadata": {},
   "outputs": [],
   "source": [
    "lines = ''\n",
    "iter_cnt = 0\n",
    "# Перебор элементов словаря \n",
    "for dic_element in decoded_hand:\n",
    "    for items_element in dic_element['ticket']['document']['receipt']['items']:\n",
    "        iter_string = str(dic_element['ticket']['document']['receipt']['cashTotalSum']) + ';' \\\n",
    "            + dic_element['ticket']['document']['receipt']['dateTime'] + ';' \\\n",
    "            + str(dic_element['ticket']['document']['receipt']['ecashTotalSum']) + ';' \\\n",
    "            + str(dic_element['ticket']['document']['receipt']['fiscalDocumentNumber']) + ';' \\\n",
    "            + dic_element['ticket']['document']['receipt']['fiscalDriveNumber'] + ';' \\\n",
    "            + str(dic_element['ticket']['document']['receipt']['fiscalSign']) + ';' \\\n",
    "            + items_element['name'] + ';' \n",
    "        if 'nds18' in items_element:\n",
    "            iter_string = iter_string + str(items_element['nds18'])\n",
    "        iter_string = iter_string + ';'\n",
    "        iter_string = iter_string + str(items_element['price']) + ';' \\\n",
    "            + str(items_element['quantity']) + ';' \\\n",
    "            + str(items_element['sum']) + ';' \\\n",
    "            + dic_element['ticket']['document']['receipt']['kktRegId'] + ';' \n",
    "        if 'nds18' in dic_element['ticket']['document']['receipt']:\n",
    "            iter_string = iter_string + str(dic_element['ticket']['document']['receipt']['nds18'])\n",
    "        iter_string = iter_string + ';'\n",
    "        iter_string = iter_string \\\n",
    "            + str(dic_element['ticket']['document']['receipt']['operationType']) + ';' \n",
    "        if 'operator' in dic_element['ticket']['document']['receipt']:\n",
    "            iter_string = iter_string + dic_element['ticket']['document']['receipt']['operator']\n",
    "        iter_string = iter_string + ';'\n",
    "        if 'receiptCode' in dic_element['ticket']['document']['receipt']:\n",
    "            iter_string = iter_string + str(dic_element['ticket']['document']['receipt']['receiptCode'])\n",
    "        iter_string = iter_string + ';'\n",
    "        if 'requestNumber' in dic_element['ticket']['document']['receipt']:\n",
    "            iter_string = iter_string + str(dic_element['ticket']['document']['receipt']['requestNumber'])\n",
    "        iter_string = iter_string + ';'\n",
    "        if 'shiftNumber' in dic_element['ticket']['document']['receipt']:\n",
    "            iter_string = iter_string + str(dic_element['ticket']['document']['receipt']['shiftNumber'])\n",
    "        iter_string = iter_string + ';'\n",
    "        if 'taxationType' in dic_element['ticket']['document']['receipt']:\n",
    "            iter_string = iter_string + str(dic_element['ticket']['document']['receipt']['taxationType'])\n",
    "        iter_string = iter_string + ';'\n",
    "        if 'totalSum' in dic_element['ticket']['document']['receipt']:\n",
    "            iter_string = iter_string + str(dic_element['ticket']['document']['receipt']['totalSum'])\n",
    "        iter_string = iter_string + ';'\n",
    "        if 'userInn' in dic_element['ticket']['document']['receipt']:\n",
    "            iter_string = iter_string + dic_element['ticket']['document']['receipt']['userInn']\n",
    "        iter_string = iter_string + ';'\n",
    "        if 'createdAt' in items_element:\n",
    "            iter_string = iter_string + dic_element['createdAt']\n",
    "        iter_string = iter_string + ';'\n",
    "        if 'timeLastAccess' in items_element:\n",
    "            iter_string = iter_string + dic_element['timeLastAccess'] \n",
    "        lines = lines + iter_string + '\\n'\n",
    "lines = header + lines[:-1]\n",
    "            "
   ]
  },
  {
   "cell_type": "code",
   "execution_count": 7,
   "metadata": {},
   "outputs": [],
   "source": [
    "outfile = 'json2csv.csv'\n",
    "with open(outfile, \"w\",encoding = 'utf8') as write_file:\n",
    "        write_file.write(lines)"
   ]
  },
  {
   "cell_type": "code",
   "execution_count": null,
   "metadata": {},
   "outputs": [],
   "source": []
  },
  {
   "cell_type": "code",
   "execution_count": null,
   "metadata": {},
   "outputs": [],
   "source": []
  },
  {
   "cell_type": "code",
   "execution_count": null,
   "metadata": {},
   "outputs": [],
   "source": []
  }
 ],
 "metadata": {
  "kernelspec": {
   "display_name": "Python 3",
   "language": "python",
   "name": "python3"
  },
  "language_info": {
   "codemirror_mode": {
    "name": "ipython",
    "version": 3
   },
   "file_extension": ".py",
   "mimetype": "text/x-python",
   "name": "python",
   "nbconvert_exporter": "python",
   "pygments_lexer": "ipython3",
   "version": "3.7.6"
  }
 },
 "nbformat": 4,
 "nbformat_minor": 4
}
